{
 "cells": [
  {
   "cell_type": "code",
   "execution_count": 11,
   "metadata": {},
   "outputs": [
    {
     "name": "stdout",
     "output_type": "stream",
     "text": [
      "WARNING:tensorflow:From d:\\python\\lib\\site-packages\\keras\\src\\losses.py:2976: The name tf.losses.sparse_softmax_cross_entropy is deprecated. Please use tf.compat.v1.losses.sparse_softmax_cross_entropy instead.\n",
      "\n"
     ]
    }
   ],
   "source": [
    "import os\n",
    "import cv2\n",
    "import numpy as np\n",
    "#from tensorflow.keras.utils import to_categorical\n",
    "import tensorflow as tf\n"
   ]
  },
  {
   "cell_type": "code",
   "execution_count": 12,
   "metadata": {},
   "outputs": [],
   "source": [
    "def load_and_preprocess_data(data_path):\n",
    "    images = []\n",
    "    labels = []\n",
    "\n",
    "    class_names = os.listdir(data_path)\n",
    "\n",
    "    # Create a mapping from class names to integer labels\n",
    "    class_to_index = {class_name: idx for idx, class_name in enumerate(class_names)}\n",
    "\n",
    "    for symbol_class in class_names:\n",
    "        class_path = os.path.join(data_path, symbol_class)\n",
    "        for image_file in os.listdir(class_path):\n",
    "            image_path = os.path.join(class_path, image_file)\n",
    "            image = cv2.imread(image_path, cv2.IMREAD_GRAYSCALE)\n",
    "            image = cv2.resize(image, (32, 32))  # Resize to a consistent size\n",
    "            image = image / 255.0  # Normalize pixel values\n",
    "            images.append(image)\n",
    "            labels.append(class_to_index[symbol_class])\n",
    "\n",
    "    images = np.array(images)\n",
    "    \n",
    "    # Use to_categorical from tensorflow.keras.utils.np_utils\n",
    "    labels = tf.one_hot(labels, depth=len(class_names))\n",
    "\n",
    "    return images, labels"
   ]
  },
  {
   "cell_type": "code",
   "execution_count": 13,
   "metadata": {},
   "outputs": [],
   "source": [
    "import warnings\n",
    "warnings.filterwarnings(\"ignore\", category=DeprecationWarning)"
   ]
  },
  {
   "cell_type": "code",
   "execution_count": 14,
   "metadata": {},
   "outputs": [],
   "source": [
    "from tensorflow.keras.models import Sequential\n",
    "from tensorflow.keras.layers import Conv2D, MaxPooling2D, Flatten, Dense"
   ]
  },
  {
   "cell_type": "code",
   "execution_count": 15,
   "metadata": {},
   "outputs": [],
   "source": [
    "def build_symbol_detection_model(input_shape, num_classes):\n",
    "    model = Sequential()\n",
    "    model.add(Conv2D(32, (3, 3), activation='relu', input_shape=input_shape))\n",
    "    model.add(MaxPooling2D((2, 2)))\n",
    "    model.add(Conv2D(64, (3, 3), activation='relu'))\n",
    "    model.add(MaxPooling2D((2, 2)))\n",
    "    model.add(Flatten())\n",
    "    model.add(Dense(128, activation='relu'))\n",
    "    model.add(Dense(num_classes, activation='softmax'))  # Softmax for multi-class classification\n",
    "\n",
    "    # Modify the loss function to 'categorical_crossentropy'\n",
    "    model.compile(optimizer='adam', loss='categorical_crossentropy', metrics=['accuracy'])\n",
    "\n",
    "    return model"
   ]
  },
  {
   "cell_type": "code",
   "execution_count": 16,
   "metadata": {},
   "outputs": [],
   "source": [
    "from sklearn.model_selection import train_test_split"
   ]
  },
  {
   "cell_type": "code",
   "execution_count": 17,
   "metadata": {},
   "outputs": [],
   "source": [
    "images, labels = load_and_preprocess_data('data\\extracted_images')\n"
   ]
  },
  {
   "cell_type": "code",
   "execution_count": null,
   "metadata": {},
   "outputs": [],
   "source": [
    "input_shape = (32, 32, 1)  # Assuming images are grayscale\n",
    "num_classes = len(os.listdir('data\\extracted_images'))"
   ]
  },
  {
   "cell_type": "code",
   "execution_count": null,
   "metadata": {},
   "outputs": [
    {
     "data": {
      "text/plain": [
       "82"
      ]
     },
     "execution_count": 71,
     "metadata": {},
     "output_type": "execute_result"
    }
   ],
   "source": [
    "num_classes"
   ]
  },
  {
   "cell_type": "code",
   "execution_count": null,
   "metadata": {},
   "outputs": [
    {
     "data": {
      "text/plain": [
       "(375974, 32, 32)"
      ]
     },
     "execution_count": 72,
     "metadata": {},
     "output_type": "execute_result"
    }
   ],
   "source": [
    "images.shape"
   ]
  },
  {
   "cell_type": "code",
   "execution_count": null,
   "metadata": {},
   "outputs": [],
   "source": [
    "labels=labels.numpy()"
   ]
  },
  {
   "cell_type": "code",
   "execution_count": null,
   "metadata": {},
   "outputs": [
    {
     "data": {
      "text/plain": [
       "(375974, 82)"
      ]
     },
     "execution_count": 76,
     "metadata": {},
     "output_type": "execute_result"
    }
   ],
   "source": [
    "labels.shape"
   ]
  },
  {
   "cell_type": "code",
   "execution_count": null,
   "metadata": {},
   "outputs": [
    {
     "name": "stdout",
     "output_type": "stream",
     "text": [
      "Epoch 1/10\n",
      "9400/9400 [==============================] - 468s 49ms/step - loss: 0.6321 - accuracy: 0.8295 - val_loss: 0.3538 - val_accuracy: 0.8959\n",
      "Epoch 2/10\n",
      "9400/9400 [==============================] - 162s 17ms/step - loss: 0.3006 - accuracy: 0.9108 - val_loss: 0.2503 - val_accuracy: 0.9245\n",
      "Epoch 3/10\n",
      "9400/9400 [==============================] - 122s 13ms/step - loss: 0.2209 - accuracy: 0.9327 - val_loss: 0.2078 - val_accuracy: 0.9368\n",
      "Epoch 4/10\n",
      "9400/9400 [==============================] - 133s 14ms/step - loss: 0.1743 - accuracy: 0.9455 - val_loss: 0.1759 - val_accuracy: 0.9457\n",
      "Epoch 5/10\n",
      "9400/9400 [==============================] - 138s 15ms/step - loss: 0.1435 - accuracy: 0.9538 - val_loss: 0.1594 - val_accuracy: 0.9503\n",
      "Epoch 6/10\n",
      "9400/9400 [==============================] - 134s 14ms/step - loss: 0.1206 - accuracy: 0.9609 - val_loss: 0.1490 - val_accuracy: 0.9546\n",
      "Epoch 7/10\n",
      "9400/9400 [==============================] - 130s 14ms/step - loss: 0.1039 - accuracy: 0.9659 - val_loss: 0.1136 - val_accuracy: 0.9651\n",
      "Epoch 8/10\n",
      "9400/9400 [==============================] - 152s 16ms/step - loss: 0.0927 - accuracy: 0.9694 - val_loss: 0.1159 - val_accuracy: 0.9638\n",
      "Epoch 9/10\n",
      "9400/9400 [==============================] - 160s 17ms/step - loss: 0.0837 - accuracy: 0.9724 - val_loss: 0.0874 - val_accuracy: 0.9741\n",
      "Epoch 10/10\n",
      "9400/9400 [==============================] - 164s 17ms/step - loss: 0.0762 - accuracy: 0.9748 - val_loss: 0.0994 - val_accuracy: 0.9700\n"
     ]
    },
    {
     "data": {
      "text/plain": [
       "<keras.src.callbacks.History at 0x1d44c975f00>"
      ]
     },
     "execution_count": 77,
     "metadata": {},
     "output_type": "execute_result"
    }
   ],
   "source": [
    "X_train, X_test, y_train, y_test = train_test_split(images, labels, test_size=0.2, random_state=42)\n",
    "\n",
    "model = build_symbol_detection_model(input_shape, num_classes)\n",
    "#model = build_symbol_detection_model(input_shape, num_classes=len(class_names))\n",
    "model.compile(optimizer='adam', loss='categorical_crossentropy', metrics=['accuracy'])\n",
    "\n",
    "model.fit(X_train, y_train, epochs=10, batch_size=32, validation_data=(X_test, y_test))"
   ]
  },
  {
   "cell_type": "code",
   "execution_count": null,
   "metadata": {},
   "outputs": [
    {
     "name": "stdout",
     "output_type": "stream",
     "text": [
      "=\n",
      "A\n",
      "alpha\n",
      "ascii_124\n",
      "b\n",
      "beta\n",
      "C\n",
      "cos\n",
      "d\n",
      "Delta\n",
      "div\n",
      "e\n",
      "exists\n",
      "f\n",
      "forall\n",
      "forward_slash\n",
      "G\n",
      "gamma\n",
      "geq\n",
      "gt\n",
      "H\n",
      "i\n",
      "in\n",
      "infty\n",
      "int\n",
      "j\n",
      "k\n",
      "l\n",
      "lambda\n",
      "ldots\n",
      "leq\n",
      "lim\n",
      "log\n",
      "lt\n",
      "M\n",
      "mu\n",
      "N\n",
      "neq\n",
      "o\n",
      "p\n",
      "phi\n",
      "pi\n",
      "pm\n",
      "prime\n",
      "q\n",
      "R\n",
      "rightarrow\n",
      "S\n",
      "sigma\n",
      "sin\n",
      "sqrt\n",
      "sum\n",
      "T\n",
      "tan\n",
      "theta\n",
      "times\n",
      "u\n",
      "v\n",
      "w\n",
      "X\n",
      "y\n",
      "z\n",
      "[\n",
      "]\n",
      "{\n",
      "}\n"
     ]
    }
   ],
   "source": [
    "i=0\n",
    "for symbol_class in range(16, len(os.listdir('data\\extracted_images'))):\n",
    "        print(os.listdir('data\\extracted_images')[symbol_class])\n",
    "        "
   ]
  },
  {
   "cell_type": "code",
   "execution_count": null,
   "metadata": {},
   "outputs": [
    {
     "data": {
      "text/plain": [
       "array([[1., 0., 0., ..., 0., 0., 0.],\n",
       "       [1., 0., 0., ..., 0., 0., 0.],\n",
       "       [1., 0., 0., ..., 0., 0., 0.],\n",
       "       ...,\n",
       "       [0., 0., 0., ..., 0., 0., 1.],\n",
       "       [0., 0., 0., ..., 0., 0., 1.],\n",
       "       [0., 0., 0., ..., 0., 0., 1.]], dtype=float32)"
      ]
     },
     "execution_count": 80,
     "metadata": {},
     "output_type": "execute_result"
    }
   ],
   "source": [
    "labels"
   ]
  },
  {
   "cell_type": "code",
   "execution_count": null,
   "metadata": {},
   "outputs": [],
   "source": [
    "def get_symbol_description(predicted_class):\n",
    "    # Map numeric classes to corresponding descriptions\n",
    "    class_descriptions = {\n",
    "        0: 'exclamatory mark',\n",
    "        1: 'Opening round bracket',\n",
    "        2: 'closing round bracket',\n",
    "        3: 'Plus',\n",
    "        4: 'Comma',\n",
    "        5: 'minus',\n",
    "        6: 'Zero',\n",
    "        7: 'One',\n",
    "        8: 'Two',\n",
    "        9: 'Three',\n",
    "        10: 'Four',\n",
    "        11: 'Five',\n",
    "        12: 'Six',\n",
    "        13: 'Seven',\n",
    "        14: 'Eight',\n",
    "        15:  'Nine',\n",
    "        16: 'Equal to',\n",
    "        17: 'a',\n",
    "        18: 'alpha',\n",
    "        19: 'ascii',\n",
    "        20: 'b',\n",
    "        70:  'Theta',\n",
    "        21: 'beta',\n",
    "        22: 'c',\n",
    "        23: 'cos',\n",
    "        24: 'd',\n",
    "        25: 'delta',\n",
    "        26: 'devide by',\n",
    "        27: 'e',\n",
    "        28: 'there exists',\n",
    "        29: 'f',\n",
    "        30: 'for all',\n",
    "        31: 'forward slash',\n",
    "        32: 'g',\n",
    "        33: 'gamma'\n",
    "        # Add more descriptions as needed\n",
    "    }\n",
    "\n",
    "    # Return the description for the predicted class, or a default if not found\n",
    "    return class_descriptions.get(predicted_class, 'Unknown Symbol')\n"
   ]
  },
  {
   "cell_type": "code",
   "execution_count": null,
   "metadata": {},
   "outputs": [],
   "source": [
    "# Example using gTTS (Google Text-to-Speech) library\n",
    "from gtts import gTTS\n",
    "import IPython.display as ipd\n",
    "\n",
    "def generate_audio_description(text):\n",
    "    tts = gTTS(text=text, lang='en', slow=False)\n",
    "    tts.save('audio_description.mp3')\n",
    "    ipd.Audio('audio_description.mp3')\n"
   ]
  },
  {
   "cell_type": "code",
   "execution_count": null,
   "metadata": {},
   "outputs": [],
   "source": [
    "def detect_and_describe_symbols(image_path):\n",
    "    image = cv2.imread(image_path, cv2.IMREAD_GRAYSCALE)\n",
    "    image = cv2.resize(image, (32, 32))\n",
    "    image = image / 255.0\n",
    "    image = np.expand_dims(image, axis=0)\n",
    "\n",
    "    prediction = model.predict(image)\n",
    "    predicted_class = np.argmax(prediction)\n",
    "    \n",
    "    #predicted_class=predicted_class-6\n",
    "    symbol_description = get_symbol_description(predicted_class)\n",
    "    generate_audio_description(symbol_description)\n",
    "\n",
    "    return predicted_class\n"
   ]
  },
  {
   "cell_type": "code",
   "execution_count": null,
   "metadata": {},
   "outputs": [],
   "source": [
    "import IPython.display as ipd"
   ]
  },
  {
   "cell_type": "code",
   "execution_count": null,
   "metadata": {},
   "outputs": [],
   "source": [
    "def detect_and_describe_symbols(symbol_image):\n",
    "    image = cv2.resize(symbol_image, (32, 32))\n",
    "    image = image / 255.0\n",
    "    image = np.expand_dims(image, axis=0)\n",
    "\n",
    "    prediction = model.predict(image)\n",
    "    predicted_class = np.argmax(prediction)\n",
    "    symbol_description = get_symbol_description(predicted_class)\n",
    "    \n",
    "    return predicted_class, symbol_description\n"
   ]
  },
  {
   "cell_type": "code",
   "execution_count": null,
   "metadata": {},
   "outputs": [],
   "source": [
    "def detect_and_describe_formula(formula_image_path):\n",
    "    # Split the formula image into individual symbols\n",
    "    symbol_images = split_formula_into_symbols(formula_image_path)\n",
    "\n",
    "    # Detect and describe each symbol\n",
    "    symbols = []\n",
    "    for symbol_image in symbol_images:\n",
    "        predicted_class, symbol_description = detect_and_describe_symbols(symbol_image)\n",
    "        symbols.append((predicted_class, symbol_description))\n",
    "        print(f\"Predicted Class: {predicted_class}, Description: {symbol_description}\")\n",
    "\n",
    "    # Combine individual symbol descriptions into a formula description\n",
    "    formula_description = ' '.join([symbol[1] for symbol in symbols])\n",
    "\n",
    "    # Generate audio description for the entire formula\n",
    "    generate_audio_description(formula_description)\n",
    "\n",
    "    return formula_description\n"
   ]
  },
  {
   "cell_type": "code",
   "execution_count": null,
   "metadata": {},
   "outputs": [],
   "source": [
    "def split_formula_into_symbols(formula_image_path):\n",
    "    # Load the formula image\n",
    "    formula_image = cv2.imread(formula_image_path, cv2.IMREAD_GRAYSCALE)\n",
    "    \n",
    "    # Threshold the image to create a binary image\n",
    "    _, binary_image = cv2.threshold(formula_image, 128, 255, cv2.THRESH_BINARY_INV)\n",
    "\n",
    "    # Find contours in the binary image\n",
    "    contours, _ = cv2.findContours(binary_image, cv2.RETR_EXTERNAL, cv2.CHAIN_APPROX_SIMPLE)\n",
    "\n",
    "    # Sort contours by their x-coordinate to get symbols from left to right\n",
    "    contours = sorted(contours, key=lambda x: cv2.boundingRect(x)[0])\n",
    "\n",
    "    # Extract individual symbols\n",
    "    symbols = []\n",
    "    for contour in contours:\n",
    "        x, y, w, h = cv2.boundingRect(contour)\n",
    "        \n",
    "        # Extract individual symbols based on bounding rectangles\n",
    "        symbol_image = formula_image[y:y+h, x:x+w]\n",
    "        symbols.append(symbol_image)\n",
    "\n",
    "    return symbols"
   ]
  },
  {
   "cell_type": "code",
   "execution_count": null,
   "metadata": {},
   "outputs": [
    {
     "ename": "NameError",
     "evalue": "name 'cv2' is not defined",
     "output_type": "error",
     "traceback": [
      "\u001b[1;31m---------------------------------------------------------------------------\u001b[0m",
      "\u001b[1;31mNameError\u001b[0m                                 Traceback (most recent call last)",
      "Cell \u001b[1;32mIn[9], line 2\u001b[0m\n\u001b[0;32m      1\u001b[0m formula_image_path \u001b[38;5;241m=\u001b[39m \u001b[38;5;124m\"\u001b[39m\u001b[38;5;124minp.jpg\u001b[39m\u001b[38;5;124m\"\u001b[39m\n\u001b[1;32m----> 2\u001b[0m detected_symbols \u001b[38;5;241m=\u001b[39m \u001b[43msplit_formula_into_symbols\u001b[49m\u001b[43m(\u001b[49m\u001b[43mformula_image_path\u001b[49m\u001b[43m)\u001b[49m\n\u001b[0;32m      3\u001b[0m detect_and_describe_formula(formula_image_path)\n",
      "Cell \u001b[1;32mIn[8], line 3\u001b[0m, in \u001b[0;36msplit_formula_into_symbols\u001b[1;34m(formula_image_path)\u001b[0m\n\u001b[0;32m      1\u001b[0m \u001b[38;5;28;01mdef\u001b[39;00m \u001b[38;5;21msplit_formula_into_symbols\u001b[39m(formula_image_path):\n\u001b[0;32m      2\u001b[0m     \u001b[38;5;66;03m# Load the formula image\u001b[39;00m\n\u001b[1;32m----> 3\u001b[0m     formula_image \u001b[38;5;241m=\u001b[39m \u001b[43mcv2\u001b[49m\u001b[38;5;241m.\u001b[39mimread(formula_image_path, cv2\u001b[38;5;241m.\u001b[39mIMREAD_GRAYSCALE)\n\u001b[0;32m      5\u001b[0m     \u001b[38;5;66;03m# Threshold the image to create a binary image\u001b[39;00m\n\u001b[0;32m      6\u001b[0m     _, binary_image \u001b[38;5;241m=\u001b[39m cv2\u001b[38;5;241m.\u001b[39mthreshold(formula_image, \u001b[38;5;241m128\u001b[39m, \u001b[38;5;241m255\u001b[39m, cv2\u001b[38;5;241m.\u001b[39mTHRESH_BINARY_INV)\n",
      "\u001b[1;31mNameError\u001b[0m: name 'cv2' is not defined"
     ]
    }
   ],
   "source": [
    "formula_image_path = \"inp.jpg\"\n",
    "detected_symbols = split_formula_into_symbols(formula_image_path)\n",
    "detect_and_describe_formula(formula_image_path)"
   ]
  },
  {
   "cell_type": "code",
   "execution_count": null,
   "metadata": {},
   "outputs": [
    {
     "ename": "NameError",
     "evalue": "name 'cv2' is not defined",
     "output_type": "error",
     "traceback": [
      "\u001b[1;31m---------------------------------------------------------------------------\u001b[0m",
      "\u001b[1;31mNameError\u001b[0m                                 Traceback (most recent call last)",
      "Cell \u001b[1;32mIn[10], line 2\u001b[0m\n\u001b[0;32m      1\u001b[0m image_path \u001b[38;5;241m=\u001b[39m \u001b[38;5;124m'\u001b[39m\u001b[38;5;124minp.jpg\u001b[39m\u001b[38;5;124m'\u001b[39m\n\u001b[1;32m----> 2\u001b[0m \u001b[43mdetect_and_describe_formula\u001b[49m\u001b[43m(\u001b[49m\u001b[43mimage_path\u001b[49m\u001b[43m)\u001b[49m\n",
      "Cell \u001b[1;32mIn[7], line 3\u001b[0m, in \u001b[0;36mdetect_and_describe_formula\u001b[1;34m(formula_image_path)\u001b[0m\n\u001b[0;32m      1\u001b[0m \u001b[38;5;28;01mdef\u001b[39;00m \u001b[38;5;21mdetect_and_describe_formula\u001b[39m(formula_image_path):\n\u001b[0;32m      2\u001b[0m     \u001b[38;5;66;03m# Split the formula image into individual symbols\u001b[39;00m\n\u001b[1;32m----> 3\u001b[0m     symbol_images \u001b[38;5;241m=\u001b[39m \u001b[43msplit_formula_into_symbols\u001b[49m\u001b[43m(\u001b[49m\u001b[43mformula_image_path\u001b[49m\u001b[43m)\u001b[49m\n\u001b[0;32m      5\u001b[0m     \u001b[38;5;66;03m# Detect and describe each symbol\u001b[39;00m\n\u001b[0;32m      6\u001b[0m     symbols \u001b[38;5;241m=\u001b[39m []\n",
      "Cell \u001b[1;32mIn[8], line 3\u001b[0m, in \u001b[0;36msplit_formula_into_symbols\u001b[1;34m(formula_image_path)\u001b[0m\n\u001b[0;32m      1\u001b[0m \u001b[38;5;28;01mdef\u001b[39;00m \u001b[38;5;21msplit_formula_into_symbols\u001b[39m(formula_image_path):\n\u001b[0;32m      2\u001b[0m     \u001b[38;5;66;03m# Load the formula image\u001b[39;00m\n\u001b[1;32m----> 3\u001b[0m     formula_image \u001b[38;5;241m=\u001b[39m \u001b[43mcv2\u001b[49m\u001b[38;5;241m.\u001b[39mimread(formula_image_path, cv2\u001b[38;5;241m.\u001b[39mIMREAD_GRAYSCALE)\n\u001b[0;32m      5\u001b[0m     \u001b[38;5;66;03m# Threshold the image to create a binary image\u001b[39;00m\n\u001b[0;32m      6\u001b[0m     _, binary_image \u001b[38;5;241m=\u001b[39m cv2\u001b[38;5;241m.\u001b[39mthreshold(formula_image, \u001b[38;5;241m128\u001b[39m, \u001b[38;5;241m255\u001b[39m, cv2\u001b[38;5;241m.\u001b[39mTHRESH_BINARY_INV)\n",
      "\u001b[1;31mNameError\u001b[0m: name 'cv2' is not defined"
     ]
    }
   ],
   "source": [
    "image_path = 'inp.jpg'\n",
    "detect_and_describe_formula(image_path)"
   ]
  },
  {
   "cell_type": "code",
   "execution_count": null,
   "metadata": {},
   "outputs": [],
   "source": []
  }
 ],
 "metadata": {
  "kernelspec": {
   "display_name": "Python 3",
   "language": "python",
   "name": "python3"
  },
  "language_info": {
   "codemirror_mode": {
    "name": "ipython",
    "version": 3
   },
   "file_extension": ".py",
   "mimetype": "text/x-python",
   "name": "python",
   "nbconvert_exporter": "python",
   "pygments_lexer": "ipython3",
   "version": "3.10.8"
  }
 },
 "nbformat": 4,
 "nbformat_minor": 2
}
